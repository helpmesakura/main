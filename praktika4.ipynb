{
  "nbformat": 4,
  "nbformat_minor": 0,
  "metadata": {
    "colab": {
      "provenance": [],
      "authorship_tag": "ABX9TyPVEce6jITWNmzKc0w3Ogak",
      "include_colab_link": true
    },
    "kernelspec": {
      "name": "python3",
      "display_name": "Python 3"
    },
    "language_info": {
      "name": "python"
    }
  },
  "cells": [
    {
      "cell_type": "markdown",
      "metadata": {
        "id": "view-in-github",
        "colab_type": "text"
      },
      "source": [
        "<a href=\"https://colab.research.google.com/github/helpmesakura/main/blob/main/praktika4.ipynb\" target=\"_parent\"><img src=\"https://colab.research.google.com/assets/colab-badge.svg\" alt=\"Open In Colab\"/></a>"
      ]
    },
    {
      "cell_type": "code",
      "execution_count": null,
      "metadata": {
        "id": "OOyypPtW48mD"
      },
      "outputs": [],
      "source": [
        "<!DOCTYPE html>\n",
        "<html lang=\"en\">\n",
        "<head>\n",
        "    <meta charset=\"UTF-8\">\n",
        "    <meta name=\"viewport\" content=\"width=device-width, initial-scale=1.0\">\n",
        "    <title>Notes App</title>\n",
        "</head>\n",
        "<body>\n",
        "    <h1>Notes</h1>\n",
        "    <form action=\"/notes\" method=\"post\">\n",
        "        <input type=\"text\" name=\"note_title\" placeholder=\"Title\" required>\n",
        "        <textarea name=\"note_content\" placeholder=\"Content\" required></textarea>\n",
        "        <button type=\"submit\">Add Note</button>\n",
        "    </form>\n",
        "    <ul>\n",
        "        {% for note in notes %}\n",
        "            <li>{{ note.title }}: {{ note.content }}</li>\n",
        "        {% endfor %}\n",
        "    </ul>\n",
        "</body>\n",
        "</html>"
      ]
    }
  ]
}