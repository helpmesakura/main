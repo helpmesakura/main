{
  "nbformat": 4,
  "nbformat_minor": 0,
  "metadata": {
    "colab": {
      "provenance": [],
      "authorship_tag": "ABX9TyOTK4eUdP5qm8F7J+rxRQzl",
      "include_colab_link": true
    },
    "kernelspec": {
      "name": "python3",
      "display_name": "Python 3"
    },
    "language_info": {
      "name": "python"
    }
  },
  "cells": [
    {
      "cell_type": "markdown",
      "metadata": {
        "id": "view-in-github",
        "colab_type": "text"
      },
      "source": [
        "<a href=\"https://colab.research.google.com/github/helpmesakura/main/blob/main/%D0%9D%D0%B5%D0%B4%D0%B5%D0%BB%D1%8F_5_%D0%9A%D0%B0%D1%81%D0%B0%D0%BA%D0%B8%D0%BD_%D0%91%D0%98%D0%9A_24_%D0%98%D0%921.ipynb\" target=\"_parent\"><img src=\"https://colab.research.google.com/assets/colab-badge.svg\" alt=\"Open In Colab\"/></a>"
      ]
    },
    {
      "cell_type": "markdown",
      "source": [
        "EX 1"
      ],
      "metadata": {
        "id": "qiJx_iHqrLeS"
      }
    },
    {
      "cell_type": "code",
      "execution_count": null,
      "metadata": {
        "id": "2jMt3a3pqzDN"
      },
      "outputs": [],
      "source": [
        "a = int(0)\n",
        "\n",
        "while a < 2:\n",
        "    print(f\"Введите целое число не меньше 2: \")\n",
        "    a = int(input())\n",
        "\n",
        "b = 2\n",
        "while a % b != 0:\n",
        "    b += 1\n",
        "\n",
        "print(f\"Наименьший натуральный делитель числа {a}: {b}\")\n"
      ]
    },
    {
      "cell_type": "markdown",
      "source": [
        "EX 2"
      ],
      "metadata": {
        "id": "Qm5J_evcrOee"
      }
    },
    {
      "cell_type": "code",
      "source": [
        "n = int(0)\n",
        "\n",
        "while n < 1:\n",
        "    print(f\"Введите целое число больше 0: \")\n",
        "    n = int(input())\n",
        "\n",
        "match n:\n",
        "    case 1:\n",
        "        print(f\"Число Фибоначчи с номером {n} это 0\")\n",
        "    case 2:\n",
        "       print(f\"Число Фибоначчи с номером {n} это 1\")\n",
        "    case _:\n",
        "        f1 = 0\n",
        "        f2 = 1\n",
        "        i = 3\n",
        "        while i <= n:\n",
        "            fn = f1 + f2\n",
        "            f1 = f2\n",
        "            f2 = fn\n",
        "            i += 1\n",
        "        print(f\"Число Фибоначчи с номером {n} это {fn}\")\n"
      ],
      "metadata": {
        "id": "-OCff0zlrONM"
      },
      "execution_count": null,
      "outputs": []
    },
    {
      "cell_type": "markdown",
      "source": [
        "EX3"
      ],
      "metadata": {
        "id": "FeNqcyaLrPwY"
      }
    },
    {
      "cell_type": "code",
      "source": [
        "print(f\"Введите положительное число. Введите 0 чтобы завершить программу.\")\n",
        "a = int(input())\n",
        "sum = 0\n",
        "\n",
        "while a != 0:\n",
        "    if a > 0:\n",
        "        sum += a\n",
        "    print(f\"Введите положительное число. Введите 0 чтобы завершить программу.\")\n",
        "    a = int(input())\n",
        "\n",
        "print(f\"Сумма введённых чисел равна {sum}\")\n"
      ],
      "metadata": {
        "id": "W3FMub9mrQoF"
      },
      "execution_count": null,
      "outputs": []
    },
    {
      "cell_type": "markdown",
      "source": [
        "EX4"
      ],
      "metadata": {
        "id": "_Jmngv4PrQ3z"
      }
    },
    {
      "cell_type": "code",
      "source": [
        "print(f\"Введите число. Введите 0 чтобы завершить программу.\")\n",
        "a = int(input())\n",
        "result = 0\n",
        "\n",
        "while a != 0:\n",
        "    b = a\n",
        "    print(f\"Введите следующее число. Введите 0 чтобы завершить программу.\")\n",
        "    a = int(input())\n",
        "    if a != 0 and a > b:\n",
        "        result += 1\n",
        "\n",
        "print(f\"В этой последовательности {result} чисел были больше предыдущего\")\n"
      ],
      "metadata": {
        "id": "Nwz55URnrSLJ"
      },
      "execution_count": null,
      "outputs": []
    },
    {
      "cell_type": "markdown",
      "source": [
        "EX5"
      ],
      "metadata": {
        "id": "jOV30lN2rSjX"
      }
    },
    {
      "cell_type": "code",
      "source": [
        "print(f\"Введите число. Введите 0 чтобы завершить программу.\")\n",
        "a = int(input())\n",
        "max1 = a\n",
        "max2 = a\n",
        "\n",
        "while a != 0:\n",
        "    print(f\"Введите следующее число. Введите 0 чтобы завершить программу.\")\n",
        "    a = int(input())\n",
        "    if a != 0:\n",
        "        if a > max1:\n",
        "            max2 = max1\n",
        "            max1 = a\n",
        "        else:\n",
        "            if a > max2:\n",
        "                max2 = a\n",
        "\n",
        "print(f\"Второе максимальное число в этой последовательности: {max2}\")\n"
      ],
      "metadata": {
        "id": "pKWi1IRrrgMe"
      },
      "execution_count": null,
      "outputs": []
    },
    {
      "cell_type": "markdown",
      "source": [
        "EX6"
      ],
      "metadata": {
        "id": "h0icEn3hrmfj"
      }
    },
    {
      "cell_type": "code",
      "source": [
        "print(f\"Введите число:\")\n",
        "a = int(input())\n",
        "\n",
        "a2 = str(a % 2)\n",
        "a = a // 2\n",
        "while a > 0:\n",
        "    a2 = a2 + str(a % 2)\n",
        "    a = a // 2\n",
        "\n",
        "print(f\"Число {a} в двоичном виде в обратном порядке: {a2}\")\n"
      ],
      "metadata": {
        "id": "dLpHwZr6ro8k"
      },
      "execution_count": null,
      "outputs": []
    },
    {
      "cell_type": "markdown",
      "source": [
        "EX7"
      ],
      "metadata": {
        "id": "kcQTw5i_rq7y"
      }
    },
    {
      "cell_type": "code",
      "source": [
        "k = 0\n",
        "counter = 0\n",
        "while k < 1 or k > 100000:\n",
        "    print(f\"Введите число от 1 до 100'000: \")\n",
        "    k = int(input())\n",
        "\n",
        "for number in range(1, k + 1):\n",
        "    n = number\n",
        "    number2 = number % 10\n",
        "    number = number // 10\n",
        "\n",
        "    while number > 0:\n",
        "        digit = number % 10\n",
        "        number = number // 10\n",
        "        number2 = number2 * 10\n",
        "        number2 = number2 + digit\n",
        "\n",
        "    if n == number2:\n",
        "        counter +=1\n",
        "print(f\"Количество чисел-палиндромов в диапазоне от 1 до {k}: {counter}\")\n"
      ],
      "metadata": {
        "id": "xd55Z8Evrru2"
      },
      "execution_count": null,
      "outputs": []
    },
    {
      "cell_type": "markdown",
      "source": [
        "EX8"
      ],
      "metadata": {
        "id": "gYPsl8Wdrwml"
      }
    },
    {
      "cell_type": "code",
      "source": [
        "n = 0\n",
        "while n < 1 or n > 1000000:\n",
        "    print(f\"Введите число от 1 до 1'000'000: \")\n",
        "    n = int(input())\n",
        "\n",
        "for second in range(1, n + 1):\n",
        "    i = second\n",
        "    while i > 0:\n",
        "        print(f\"{second}, \", end=\"\")\n",
        "        i -= 1\n"
      ],
      "metadata": {
        "id": "i1srHh_1rxIb"
      },
      "execution_count": null,
      "outputs": []
    },
    {
      "cell_type": "markdown",
      "source": [
        "EX9"
      ],
      "metadata": {
        "id": "jvfjRlJRry5Q"
      }
    },
    {
      "cell_type": "code",
      "source": [
        "print(f\"Введите действительное число а: \")\n",
        "a = int(input())\n",
        "n = 0\n",
        "while n < 1:\n",
        "    print(f\"Введите натуральное число n: \")\n",
        "    n = int(input())\n",
        "\n",
        "sum = 1\n",
        "for i in range(n + 1):\n",
        "    sum += a * i\n",
        "\n",
        "print(f\"Сумма геометрической прогресии при a = {a} и n = {n} : {sum}\")\n"
      ],
      "metadata": {
        "id": "hAh8PQ4qrzbX"
      },
      "execution_count": null,
      "outputs": []
    },
    {
      "cell_type": "markdown",
      "source": [
        "EX10"
      ],
      "metadata": {
        "id": "Dwsgx69ur051"
      }
    },
    {
      "cell_type": "code",
      "source": [
        "x = 0\n",
        "while x < 1:\n",
        "    print(f\"Введите начальную сумму вклада (целое число больше 0):\")\n",
        "    x = int(input())\n",
        "p = 0\n",
        "while p < 1:\n",
        "    print(f\"Введите проценты по вкладу (целое число больше 0):\")\n",
        "    p = int(input())\n",
        "y = 0\n",
        "while y < 1:\n",
        "    print(f\"Введите целевую сумму (целое число больше 0):\")\n",
        "    y = int(input())\n",
        "\n",
        "if x >= y:\n",
        "    print(f\"У вас денег уже больше, чем нужно! Ответ - 0 лет.\")\n",
        "else:\n",
        "    years = 0\n",
        "    value = x\n",
        "    while value < y:\n",
        "        value = int(value + value * (p / 100))\n",
        "        years += 1\n",
        "    print(f\"Нужная сумма накопится через {years} лет\")\n"
      ],
      "metadata": {
        "id": "cURdBruor1us"
      },
      "execution_count": null,
      "outputs": []
    },
    {
      "cell_type": "markdown",
      "source": [
        "EX11"
      ],
      "metadata": {
        "id": "Ev2KVY2Ir44T"
      }
    },
    {
      "cell_type": "code",
      "source": [
        "n = 0\n",
        "while n < 1:\n",
        "    print(f\"Введите целое число больше n:\")\n",
        "    n = int(input())\n",
        "\n",
        "for i in range(1, n + 1):\n",
        "    result = 2\n",
        "    k = 1\n",
        "    while k < i:\n",
        "        result = result * 2\n",
        "        k += 1\n",
        "    print(result)\n"
      ],
      "metadata": {
        "id": "_VqVFlJur5bx"
      },
      "execution_count": null,
      "outputs": []
    },
    {
      "cell_type": "markdown",
      "source": [
        "EX12"
      ],
      "metadata": {
        "id": "F7qIGPaFr64d"
      }
    },
    {
      "cell_type": "code",
      "source": [
        "n = 0\n",
        "while n < 1:\n",
        "    print(f\"Введите целое число больше n:\")\n",
        "    n = int(input())\n",
        "\n",
        "zero = 0\n",
        "pos = 0\n",
        "neg = 0\n",
        "\n",
        "for i in range(1, n + 1):\n",
        "    print(f\"Введите целое число №{i} из {n}:\")\n",
        "    a = int(input())\n",
        "    if a < 0:\n",
        "        neg += 1\n",
        "    elif a > 0:\n",
        "        pos += 1\n",
        "    else:\n",
        "        zero += 1\n",
        "\n",
        "print(f\"Нулей: {zero}\")\n",
        "print(f\"Положительных: {pos}\")\n",
        "print(f\"Отрицательных: {neg}\")"
      ],
      "metadata": {
        "id": "LYIxJMBrr7aO"
      },
      "execution_count": null,
      "outputs": []
    },
    {
      "cell_type": "markdown",
      "source": [
        "EX13"
      ],
      "metadata": {
        "id": "RO4jQ_vYr9Va"
      }
    },
    {
      "cell_type": "code",
      "source": [
        "stado = [True, False, True, True, False, True, True, True, True, False]\n",
        "sheeps = 0\n",
        "\n",
        "for sheep in stado:\n",
        "    sheeps += sheep\n",
        "\n",
        "print(f\"Количество овец в стаде: {sheeps}\")\n"
      ],
      "metadata": {
        "id": "bS-pJQZksBpD"
      },
      "execution_count": null,
      "outputs": []
    },
    {
      "cell_type": "markdown",
      "source": [
        "EX14"
      ],
      "metadata": {
        "id": "hJlTdGA8sL7m"
      }
    },
    {
      "cell_type": "code",
      "source": [
        "print(f\"Введите натуральные числа A и B, A > B\")\n",
        "a = 0\n",
        "while a < 2:\n",
        "    print(f\"Введите число А, от 2 и больше:\")\n",
        "    a = int(input())\n",
        "b = 0\n",
        "while b < 1 or b >= a:\n",
        "    print(f\"Введите число B, оно должно быть меньше, чем А ({a}), и больше 0:\")\n",
        "    b = int(input())\n",
        "\n",
        "while b != a:\n",
        "    if a % 2 == 0:\n",
        "        if a / 2 >= b:\n",
        "            print(f\"{a} : 2 = {int(a / 2)}\")\n",
        "            a = int(a / 2)\n",
        "        else:\n",
        "            print(f\"{a} - 1 = {a - 1}\")\n",
        "            a = a - 1\n",
        "    else:\n",
        "        print(f\"{a} - 1 = {a - 1}\")\n",
        "        a = a - 1"
      ],
      "metadata": {
        "id": "06q1d1XSsOX5"
      },
      "execution_count": null,
      "outputs": []
    }
  ]
}