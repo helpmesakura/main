{
  "nbformat": 4,
  "nbformat_minor": 0,
  "metadata": {
    "colab": {
      "provenance": [],
      "name": "Неделя _5_дз_Касакин.ipynb",
      "include_colab_link": true
    },
    "kernelspec": {
      "name": "python3",
      "display_name": "Python 3"
    },
    "language_info": {
      "name": "python"
    }
  },
  "cells": [
    {
      "cell_type": "markdown",
      "metadata": {
        "id": "view-in-github",
        "colab_type": "text"
      },
      "source": [
        "<a href=\"https://colab.research.google.com/github/helpmesakura/main/blob/main/%D0%9D%D0%B5%D0%B4%D0%B5%D0%BB%D1%8F__5_%D0%B4%D0%B7_%D0%9A%D0%B0%D1%81%D0%B0%D0%BA%D0%B8%D0%BD.ipynb\" target=\"_parent\"><img src=\"https://colab.research.google.com/assets/colab-badge.svg\" alt=\"Open In Colab\"/></a>"
      ]
    },
    {
      "cell_type": "markdown",
      "source": [
        "Ex 1"
      ],
      "metadata": {
        "id": "DFmYwuF6Spq6"
      }
    },
    {
      "cell_type": "code",
      "source": [
        "numbers = input().split()\n",
        "seen_numbers = set()\n",
        "for number in numbers:\n",
        "    if number in seen_numbers:\n",
        "        print(\"YES\")\n",
        "    else:\n",
        "        print(\"NO\")\n",
        "        seen_numbers.add(number)"
      ],
      "metadata": {
        "colab": {
          "base_uri": "https://localhost:8080/"
        },
        "id": "0x8rdv_ISszt",
        "outputId": "9eff90ad-6db9-472e-fce3-bb5d5a16d15b"
      },
      "execution_count": null,
      "outputs": [
        {
          "output_type": "stream",
          "name": "stdout",
          "text": [
            "12 12 13 14\n",
            "NO\n",
            "YES\n",
            "NO\n",
            "NO\n"
          ]
        }
      ]
    },
    {
      "cell_type": "markdown",
      "source": [
        "Ex 2"
      ],
      "metadata": {
        "id": "w4l4F3BsTR5d"
      }
    },
    {
      "cell_type": "code",
      "source": [
        "from collections import deque\n",
        "\n",
        "def min_transfers(stations, lines, start, end):\n",
        "    graph = {}\n",
        "    for line in lines:\n",
        "        for i in range(len(line)-1):\n",
        "            u, v = line[i], line[i+1]\n",
        "            if u not in graph:\n",
        "                graph[u] = []\n",
        "            if v not in graph:\n",
        "                graph[v] = []\n",
        "            graph[u].append(v)\n",
        "            graph[v].append(u)\n",
        "    queue = deque([(start, 0)])\n",
        "    visited = set()\n",
        "    while queue:\n",
        "        node, depth = queue.popleft()\n",
        "        if node == end:\n",
        "            return depth // 2\n",
        "        if node not in visited:\n",
        "            visited.add(node)\n",
        "            for neighbor in graph.get(node, []):\n",
        "                queue.append((neighbor, depth + 1))\n",
        "    return -1\n",
        "n = int(input())\n",
        "m = int(input())\n",
        "lines = [list(map(int, input().split())) for _ in range(m)]\n",
        "start = int(input())\n",
        "end = int(input())\n",
        "\n",
        "result = min_transfers(n, lines, start, end)\n",
        "print(result)"
      ],
      "metadata": {
        "colab": {
          "base_uri": "https://localhost:8080/"
        },
        "id": "hIB9riG5S7tj",
        "outputId": "112ccfa7-c3c9-4c74-becd-ff5c074a59c3"
      },
      "execution_count": null,
      "outputs": [
        {
          "output_type": "stream",
          "name": "stdout",
          "text": [
            "10\n",
            "11\n",
            "12\n",
            "13\n",
            "12\n",
            "15\n",
            "20\n",
            "13\n",
            "0\n",
            "43\n",
            "23\n",
            "13\n",
            "14\n",
            "15\n",
            "16\n",
            "-1\n"
          ]
        }
      ]
    },
    {
      "cell_type": "markdown",
      "source": [
        "Ex 3"
      ],
      "metadata": {
        "id": "HjRSOomcUPDX"
      }
    },
    {
      "cell_type": "code",
      "source": [
        "N = int(input())\n",
        "\n",
        "country_dict = {}\n",
        "\n",
        "for _ in range(N):\n",
        "    data = input().split()\n",
        "    country = data[0]\n",
        "    cities = data[1:]\n",
        "\n",
        "\n",
        "    for city in cities:\n",
        "        country_dict[city] = country\n",
        "\n",
        "\n",
        "M = int(input())\n",
        "\n",
        "\n",
        "for _ in range(M):\n",
        "    query_city = input()\n",
        "    print(country_dict[query_city])"
      ],
      "metadata": {
        "id": "kamlSB0aT3Jj"
      },
      "execution_count": null,
      "outputs": []
    },
    {
      "cell_type": "markdown",
      "source": [
        "Ex 4"
      ],
      "metadata": {
        "id": "X5wwWWL6YxCf"
      }
    },
    {
      "cell_type": "code",
      "source": [
        "text = input().split()\n",
        "\n",
        "\n",
        "word_count = {}\n",
        "for word in text:\n",
        "    if word in word_count:\n",
        "        word_count[word] += 1\n",
        "    else:\n",
        "        word_count[word] = 1\n",
        "\n",
        "\n",
        "sorted_words = sorted(word_count.items(), key=lambda item: (-item[1], item[0]))\n",
        "\n",
        "\n",
        "for word, count in sorted_words:\n",
        "    print(word)"
      ],
      "metadata": {
        "id": "kFc9ZBDbYu-v"
      },
      "execution_count": null,
      "outputs": []
    },
    {
      "cell_type": "markdown",
      "source": [
        "Ex 5"
      ],
      "metadata": {
        "id": "zehM5DV4Z5iF"
      }
    },
    {
      "cell_type": "code",
      "source": [
        "accounts = {}\n",
        "\n",
        "def deposit(name, amount):\n",
        "    if name not in accounts:\n",
        "        accounts[name] = 0\n",
        "    accounts[name] += amount\n",
        "\n",
        "def withdraw(name, amount):\n",
        "    if name not in accounts:\n",
        "        accounts[name] = 0\n",
        "    accounts[name] -= amount\n",
        "\n",
        "def balance(name):\n",
        "    if name not in accounts:\n",
        "        return \"ERROR\"\n",
        "    return accounts[name]\n",
        "\n",
        "def transfer(name1, name2, amount):\n",
        "    if name1 not in accounts:\n",
        "        accounts[name1] = 0\n",
        "    if name2 not in accounts:\n",
        "        accounts[name2] = 0\n",
        "    accounts[name1] -= amount\n",
        "    accounts[name2] += amount\n",
        "\n",
        "def income(percentage):\n",
        "    for client, balance in accounts.items():\n",
        "        if balance > 0:\n",
        "            accounts[client] += balance * percentage // 100\n",
        "\n",
        "while True:\n",
        "    try:\n",
        "        operation = input().strip().split()\n",
        "        command = operation[0]\n",
        "\n",
        "        if command == \"DEPOSIT\":\n",
        "            deposit(operation[1], int(operation[2]))\n",
        "        elif command == \"WITHDRAW\":\n",
        "            withdraw(operation[1], int(operation[2]))\n",
        "        elif command == \"BALANCE\":\n",
        "            print(balance(operation[1]))\n",
        "        elif command == \"TRANSFER\":\n",
        "            transfer(operation[1], operation[2], int(operation[3]))\n",
        "        elif command == \"INCOME\":\n",
        "            income(int(operation[1]))\n",
        "    except EOFError:\n",
        "        break"
      ],
      "metadata": {
        "id": "xiblANo7Z75X"
      },
      "execution_count": null,
      "outputs": []
    },
    {
      "cell_type": "markdown",
      "source": [
        "Ex 6"
      ],
      "metadata": {
        "id": "aRxJBsHVa9DU"
      }
    },
    {
      "cell_type": "code",
      "source": [
        "def create_matrix(n, m):\n",
        "    matrix = [[0] * m for _ in range(n)]\n",
        "    value = 0\n",
        "    for i in range(n):\n",
        "        if i % 2 == 0:\n",
        "            for j in range(m):\n",
        "                matrix[i][j] = value\n",
        "                value += 1\n",
        "        else:\n",
        "            for j in range(m - 1, -1, -1):\n",
        "                matrix[i][j] = value\n",
        "                value += 1\n",
        "    return matrix\n",
        "\n",
        "def get_element(matrix, x, y):\n",
        "    return matrix[x - 1][y - 1]\n",
        "\n",
        "\n",
        "n = int(input())\n",
        "m = int(input())\n",
        "x = int(input())\n",
        "y = int(input())\n",
        "\n",
        "matrix = create_matrix(n, m)\n",
        "element = get_element(matrix, x, y)\n",
        "print(element)"
      ],
      "metadata": {
        "id": "R2Qu224pa_Cb"
      },
      "execution_count": null,
      "outputs": []
    },
    {
      "cell_type": "markdown",
      "source": [
        "Ex 7"
      ],
      "metadata": {
        "id": "YQWulGlybZYy"
      }
    },
    {
      "cell_type": "code",
      "source": [
        "def max_calories(field, row, col, memo):\n",
        "\n",
        "    if row == len(field) or col == len(field[0]):\n",
        "        return 0\n",
        "    if row == len(field) - 1 and col == len(field[0]) - 1:\n",
        "        return field[row][col]\n",
        "\n",
        "\n",
        "    if (row, col) in memo:\n",
        "        return memo[(row, col)]\n",
        "\n",
        "\n",
        "    right = max_calories(field, row, col + 1, memo)\n",
        "    down = max_calories(field, row + 1, col, memo)\n",
        "\n",
        "\n",
        "    memo[(row, col)] = max(right, down) + field[row][col]\n",
        "\n",
        "    return memo[(row, col)]\n",
        "\n",
        "\n",
        "n = int(input())\n",
        "field = [list(map(int, input().split())) for _ in range(n)]\n",
        "\n",
        "\n",
        "memo = {}\n",
        "\n",
        "\n",
        "print(max_calories(field, 0, 0, memo))"
      ],
      "metadata": {
        "id": "zdiXGnzYbZAm"
      },
      "execution_count": null,
      "outputs": []
    },
    {
      "cell_type": "markdown",
      "source": [
        "Ex 8"
      ],
      "metadata": {
        "id": "WF-XM1SEcL6J"
      }
    },
    {
      "cell_type": "code",
      "source": [
        "X = int(input())\n",
        "N = int(input())\n",
        "table = [list(map(int, input().split()) for _ in range(N)]\n",
        "for column in zip(*table):\n",
        "    if X in column:\n",
        "        print(\"YES\")\n",
        "    else:\n",
        "        print(\"NO\")"
      ],
      "metadata": {
        "id": "zWzVAQtBcLXj"
      },
      "execution_count": null,
      "outputs": []
    },
    {
      "cell_type": "markdown",
      "source": [
        "Ex 9"
      ],
      "metadata": {
        "id": "qsiLqxkNcfoC"
      }
    },
    {
      "cell_type": "code",
      "source": [
        "from collections import defaultdict\n",
        "\n",
        "\n",
        "data = []\n",
        "try:\n",
        "    while True:\n",
        "        record = input().split()\n",
        "        data.append(record)\n",
        "except EOFError:\n",
        "    pass\n",
        "\n",
        "\n",
        "customers = defaultdict(lambda: defaultdict(int))\n",
        "\n",
        "for customer, product, quantity in data:\n",
        "    customers[customer][product] += int(quantity)\n",
        "\n",
        "\n",
        "for customer in sorted(customers):\n",
        "    print(customer + ':')\n",
        "    for product, quantity in sorted(customers[customer].items()):\n",
        "        print(product + f': {quantity}')"
      ],
      "metadata": {
        "id": "IROwl-MbcfIq"
      },
      "execution_count": null,
      "outputs": []
    },
    {
      "cell_type": "markdown",
      "source": [
        "Ex 10 -"
      ],
      "metadata": {
        "id": "DIB71PkOc1Bo"
      }
    },
    {
      "cell_type": "code",
      "source": [],
      "metadata": {
        "id": "c6O2iEopc0bt"
      },
      "execution_count": null,
      "outputs": []
    }
  ]
}