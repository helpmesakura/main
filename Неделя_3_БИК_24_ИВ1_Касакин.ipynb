{
  "nbformat": 4,
  "nbformat_minor": 0,
  "metadata": {
    "colab": {
      "provenance": [],
      "authorship_tag": "ABX9TyMMJo/pVjdBsCGaJEoDdlvw",
      "include_colab_link": true
    },
    "kernelspec": {
      "name": "python3",
      "display_name": "Python 3"
    },
    "language_info": {
      "name": "python"
    }
  },
  "cells": [
    {
      "cell_type": "markdown",
      "metadata": {
        "id": "view-in-github",
        "colab_type": "text"
      },
      "source": [
        "<a href=\"https://colab.research.google.com/github/helpmesakura/main/blob/main/%D0%9D%D0%B5%D0%B4%D0%B5%D0%BB%D1%8F_3_%D0%91%D0%98%D0%9A_24_%D0%98%D0%921_%D0%9A%D0%B0%D1%81%D0%B0%D0%BA%D0%B8%D0%BD.ipynb\" target=\"_parent\"><img src=\"https://colab.research.google.com/assets/colab-badge.svg\" alt=\"Open In Colab\"/></a>"
      ]
    },
    {
      "cell_type": "markdown",
      "source": [
        "ex 1"
      ],
      "metadata": {
        "id": "W3mZZ46O9PJo"
      }
    },
    {
      "cell_type": "code",
      "source": [
        "a = \"Привет, мир, пока\"\n",
        "b = \"Мир\"\n",
        "def find_substring(a, b):\n",
        "  lower_a = a.lower()\n",
        "  lower_b = b.lower()\n",
        "  index = lower_a.find(lower_b)\n",
        "  if index != -1:\n",
        "    substring = a[index:index + len(b)]\n",
        "    return index, substring\n",
        "  else:\n",
        "    return -1, \"\"\n",
        "result = find_substring(a, b)\n",
        "print(result)\n",
        "print(result[0])\n",
        "print(result[1])"
      ],
      "metadata": {
        "colab": {
          "base_uri": "https://localhost:8080/"
        },
        "id": "8C7krjlJ9Uie",
        "outputId": "17ae993a-9acb-48d8-f9d6-e1d96cfe8e4e"
      },
      "execution_count": 2,
      "outputs": [
        {
          "output_type": "stream",
          "name": "stdout",
          "text": [
            "(8, 'мир')\n",
            "8\n",
            "мир\n"
          ]
        }
      ]
    },
    {
      "cell_type": "markdown",
      "source": [
        "ex 2"
      ],
      "metadata": {
        "id": "uFtmJa2W9PYj"
      }
    },
    {
      "cell_type": "code",
      "source": [
        "a = input('чифры с запятыми:')\n",
        "sequences = a.split(',')\n",
        "lengths = []\n",
        "for sequence in sequences:\n",
        "    lengths.append(len(sequence))\n",
        "result = ','.join(map(str, lengths))\n",
        "print(result)"
      ],
      "metadata": {
        "colab": {
          "base_uri": "https://localhost:8080/"
        },
        "id": "B2uMeezs9zIz",
        "outputId": "afecf8c8-4632-4beb-f496-09642d45a7fd"
      },
      "execution_count": 4,
      "outputs": [
        {
          "output_type": "stream",
          "name": "stdout",
          "text": [
            "чифры с запятыми:1,1,1,23,23\n",
            "1,1,1,2,2\n"
          ]
        }
      ]
    },
    {
      "cell_type": "markdown",
      "source": [
        "ex 3"
      ],
      "metadata": {
        "id": "Cu0L22dd9Pbi"
      }
    },
    {
      "cell_type": "code",
      "source": [
        "stroka = \"Привет, мир\"\n",
        "n = 8\n",
        "m = 5\n",
        "words = stroka.replace(',', '').split()\n",
        "first_part = []\n",
        "current_length = 0\n",
        "for word in words:\n",
        "    current_length += len(word) + 1\n",
        "    if current_length > n:\n",
        "        break\n",
        "    first_part.append(word)\n",
        "second_part = []\n",
        "current_length = 0\n",
        "for word in words:\n",
        "    if current_length >= m:\n",
        "        second_part.append(word)\n",
        "    current_length += len(word) + 1\n",
        "print(first_part, second_part)"
      ],
      "metadata": {
        "colab": {
          "base_uri": "https://localhost:8080/"
        },
        "id": "4R2g9qg89zl9",
        "outputId": "9e19727f-9556-441c-aaa5-9aee99cef312"
      },
      "execution_count": 5,
      "outputs": [
        {
          "output_type": "stream",
          "name": "stdout",
          "text": [
            "['Привет'] ['мир']\n"
          ]
        }
      ]
    }
  ]
}