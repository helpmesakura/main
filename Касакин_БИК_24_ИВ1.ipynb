{
  "nbformat": 4,
  "nbformat_minor": 0,
  "metadata": {
    "colab": {
      "provenance": [],
      "authorship_tag": "ABX9TyPErKMAUwY/EKUK4Jb4buSY",
      "include_colab_link": true
    },
    "kernelspec": {
      "name": "python3",
      "display_name": "Python 3"
    },
    "language_info": {
      "name": "python"
    }
  },
  "cells": [
    {
      "cell_type": "markdown",
      "metadata": {
        "id": "view-in-github",
        "colab_type": "text"
      },
      "source": [
        "<a href=\"https://colab.research.google.com/github/helpmesakura/main/blob/main/%D0%9A%D0%B0%D1%81%D0%B0%D0%BA%D0%B8%D0%BD_%D0%91%D0%98%D0%9A_24_%D0%98%D0%921.ipynb\" target=\"_parent\"><img src=\"https://colab.research.google.com/assets/colab-badge.svg\" alt=\"Open In Colab\"/></a>"
      ]
    },
    {
      "cell_type": "markdown",
      "source": [
        "первая практика"
      ],
      "metadata": {
        "id": "FarFXUb9YNaR"
      }
    },
    {
      "cell_type": "markdown",
      "source": [
        "ex 1"
      ],
      "metadata": {
        "id": "7UeZk-a6YQfa"
      }
    },
    {
      "cell_type": "code",
      "execution_count": null,
      "metadata": {
        "id": "xYXiaKarmvhK",
        "colab": {
          "base_uri": "https://localhost:8080/"
        },
        "outputId": "af431eee-8d12-404b-8f2d-2f4b7329437d"
      },
      "outputs": [
        {
          "output_type": "stream",
          "name": "stdout",
          "text": [
            "75.0\n"
          ]
        }
      ],
      "source": [
        "a = 10\n",
        "b = 15\n",
        "s = a * b / 2\n",
        "print(s)"
      ]
    },
    {
      "cell_type": "markdown",
      "source": [
        "ex 2"
      ],
      "metadata": {
        "id": "6uq2HulEYRR4"
      }
    },
    {
      "cell_type": "code",
      "source": [
        "a = int(input())\n",
        "copy = a\n",
        "a1 = a % 10\n",
        "a //= 10\n",
        "a2 = a % 10\n",
        "a //= 10\n",
        "a3 = a % 10\n",
        "print(copy, a3, a2, a1)"
      ],
      "metadata": {
        "colab": {
          "base_uri": "https://localhost:8080/"
        },
        "id": "_F0HFpZsHema",
        "outputId": "c89e809d-4a22-4eb1-a36c-ac844291cd30"
      },
      "execution_count": null,
      "outputs": [
        {
          "output_type": "stream",
          "name": "stdout",
          "text": [
            "105\n",
            "105 1 0 5\n"
          ]
        }
      ]
    },
    {
      "cell_type": "markdown",
      "source": [
        "ex 3"
      ],
      "metadata": {
        "id": "EfShXMdXYSIK"
      }
    },
    {
      "cell_type": "code",
      "source": [
        "sec = int(input())\n",
        "hours = sec % 120\n",
        "min = sec // 60\n",
        "# while sec > 60 or min > 60:\n",
        "# sec -= 60\n",
        "# min -= 60\n",
        "# if sec > 60 or min > 60:\n",
        "# min += 1\n",
        "# hours += 1\n",
        "a = f'{hours}:{min}:{sec}'\n",
        "\n",
        "\n",
        "print('Сейчас:', a)"
      ],
      "metadata": {
        "colab": {
          "base_uri": "https://localhost:8080/"
        },
        "id": "AGrXHiM0Ks2e",
        "outputId": "c4d294ca-e012-473e-bb58-eabd23ea9e63"
      },
      "execution_count": null,
      "outputs": [
        {
          "output_type": "stream",
          "name": "stdout",
          "text": [
            "12200\n",
            "Сейчас: 80:203:12200\n"
          ]
        }
      ]
    },
    {
      "cell_type": "markdown",
      "source": [
        "вторая практика"
      ],
      "metadata": {
        "id": "uWsQrwDwYKAQ"
      }
    },
    {
      "cell_type": "markdown",
      "source": [
        "ex 1"
      ],
      "metadata": {
        "id": "Qs06GEuJYXDd"
      }
    },
    {
      "cell_type": "code",
      "source": [
        "a = input()\n",
        "s = a.split(',')\n",
        "print(len(s[0]), len(s[1]), len(s[-2]), len(s[-1]))\n"
      ],
      "metadata": {
        "colab": {
          "base_uri": "https://localhost:8080/"
        },
        "id": "3ChX4-U1CYbq",
        "outputId": "0c598e06-d0e5-443c-a35c-7c5b5d8133c0"
      },
      "execution_count": null,
      "outputs": [
        {
          "output_type": "stream",
          "name": "stdout",
          "text": [
            "3 2 4 6\n"
          ]
        }
      ]
    },
    {
      "cell_type": "markdown",
      "source": [
        "ex 2"
      ],
      "metadata": {
        "id": "EBOrJhYdYX4y"
      }
    },
    {
      "cell_type": "code",
      "source": [
        "a = 'лывалдывдлалдывалд, фывфыв 1234, n = 5 123123 m = 1 привет'\n",
        "a = a.replace(' ','')\n",
        "a = a.replace(',', ' ')\n",
        "a = a.replace(' ', '')\n",
        "a = a.replace('n', ' ')\n",
        "a = a.replace('m', ' ')\n",
        "a = a.split()\n",
        "print(a[0], a[-1])\n"
      ],
      "metadata": {
        "colab": {
          "base_uri": "https://localhost:8080/"
        },
        "id": "KDJX2kNpKcBs",
        "outputId": "fe75f363-81b5-4c8e-fa27-f20dda99052a"
      },
      "execution_count": null,
      "outputs": [
        {
          "output_type": "stream",
          "name": "stdout",
          "text": [
            "лывалдывдлалдывалдфывфыв1234 =1привет\n"
          ]
        }
      ]
    },
    {
      "cell_type": "markdown",
      "source": [
        "14.10.2024"
      ],
      "metadata": {
        "id": "MAGL_xTBMshH"
      }
    },
    {
      "cell_type": "markdown",
      "source": [
        "ex 1"
      ],
      "metadata": {
        "id": "wszilL6YYZpQ"
      }
    },
    {
      "cell_type": "code",
      "source": [
        "error = input()\n",
        "match error:\n",
        "  case '400':\n",
        "    print('400 - Bad Request (Неверный запрос)')\n",
        "  case '401':\n",
        "    print('401 - Unauthorized (Не авторизован)')\n",
        "  case '402':\n",
        "    print('403 - Forbidden (Запрещено)')\n",
        "  case '404':\n",
        "    print('404 - Not Found (Не найдено)')\n",
        "  case '405':\n",
        "    print('405 - метод HTTP не разрешен веб-сервером для запрошенного URL-адреса.')"
      ],
      "metadata": {
        "id": "iLUyjJzzKSgq",
        "outputId": "d2fa2776-8682-4e29-c34f-3ad4b68bb272",
        "colab": {
          "base_uri": "https://localhost:8080/"
        }
      },
      "execution_count": null,
      "outputs": [
        {
          "output_type": "stream",
          "name": "stdout",
          "text": [
            "404\n",
            "404 - Not Found (Не найдено)\n"
          ]
        }
      ]
    },
    {
      "cell_type": "markdown",
      "source": [
        "ex 2"
      ],
      "metadata": {
        "id": "QGseoIKeYbQt"
      }
    },
    {
      "cell_type": "code",
      "source": [
        "x = int(input())\n",
        "y = int(input())\n",
        "if x > 0 and y > 0:\n",
        "  print('Точка лежит в 1 четверти')\n",
        "elif x > 0 and y < 0:\n",
        "  print('Точка лежит v 4 четверти')\n",
        "elif x < 0 and y > 0:\n",
        "  print('Точка лежит в 2 четвкети')\n",
        "elif x < 0 and y < 0:\n",
        "  print('Точка лежит в0 3 четверти')"
      ],
      "metadata": {
        "id": "y9gTqvzJM1To",
        "outputId": "667c1aa9-3a8b-4227-bb00-a19492b374aa",
        "colab": {
          "base_uri": "https://localhost:8080/"
        }
      },
      "execution_count": null,
      "outputs": [
        {
          "output_type": "stream",
          "name": "stdout",
          "text": [
            "6\n",
            "-6\n",
            "Точка лежит v 4 четверти\n"
          ]
        }
      ]
    },
    {
      "cell_type": "markdown",
      "source": [
        "ex 3"
      ],
      "metadata": {
        "id": "4WkH_7TbYcK2"
      }
    },
    {
      "cell_type": "code",
      "source": [
        "a = int(input())\n",
        "if (a % 4 == 0) or (a % 100 == 0 and a % 400 == 0):\n",
        "  print('DA')\n",
        "else:\n",
        "  print('net')"
      ],
      "metadata": {
        "id": "Z0n_XHU_POZI",
        "outputId": "01bdb11b-dd8a-4e29-874f-31be8e645a48",
        "colab": {
          "base_uri": "https://localhost:8080/"
        }
      },
      "execution_count": null,
      "outputs": [
        {
          "output_type": "stream",
          "name": "stdout",
          "text": [
            "1234\n",
            "net\n"
          ]
        }
      ]
    },
    {
      "cell_type": "markdown",
      "source": [
        "18.12.24"
      ],
      "metadata": {
        "id": "a-do2QCplXN8"
      }
    },
    {
      "cell_type": "markdown",
      "source": [
        "ex 1"
      ],
      "metadata": {
        "id": "bI-fsXiUkcmN"
      }
    },
    {
      "cell_type": "code",
      "source": [
        "inp = []\n",
        "dict1 = dict()\n",
        "\n",
        "\n",
        "while True:\n",
        "  inp1 = int(input(\"Введите 0 для завершения операции: \"))\n",
        "  if inp1 == 0:\n",
        "    break\n",
        "  inp.append(inp1)\n",
        "\n",
        "for i in set(inp):\n",
        "  dict1.update({ i: inp.count(i)})\n",
        "\n",
        "print(dict1)\n",
        "print(set(inp))\n"
      ],
      "metadata": {
        "id": "HxEipUlYR1Bn",
        "outputId": "c3e99000-920d-4dec-ccaa-bb54e0c64ce6",
        "colab": {
          "base_uri": "https://localhost:8080/"
        }
      },
      "execution_count": null,
      "outputs": [
        {
          "output_type": "stream",
          "name": "stdout",
          "text": [
            "0\n"
          ]
        }
      ]
    },
    {
      "cell_type": "markdown",
      "source": [
        "ex 2"
      ],
      "metadata": {
        "id": "Q-DLGQTxkjex"
      }
    },
    {
      "cell_type": "code",
      "source": [
        "phone_book = {\n",
        "    \"contact1\": \"number1\",\n",
        "    \"contact2\": \"number2\",\n",
        "    \"contact3\": \"number3\",\n",
        "    \"contact4\": \"number4\",\n",
        "}\n",
        "\n",
        "while True:\n",
        "  inp1 = input(\n",
        "  \"add - Добавление нового номера\"\"\\n\"\n",
        "  \"who - Узнать номер телефона по имени\"\"\\n\")\n",
        "  if inp1 == \"add\":\n",
        "    new_contact, new_number = input(\"Введите имя и номер нового контакта:\"\"\\n\").split()\n",
        "    phone_book.update({new_contact: new_number})\n",
        "  if inp1 == \"who\":\n",
        "    who_number = input(\"Введите имя контакна:\"\"\\n\")\n",
        "    ind = phone_book.keys().index(who_number)\n",
        "    book_keys = list(phone_book.keys())\n",
        "    book_values = list(phone_book.values())\n",
        "    print(book_keys[ind])\n",
        "\n",
        "print(phone_book)"
      ],
      "metadata": {
        "id": "5_QYVVbikkq1"
      },
      "execution_count": null,
      "outputs": []
    },
    {
      "cell_type": "markdown",
      "source": [
        "04.12.24"
      ],
      "metadata": {
        "id": "aono5GDdlZOk"
      }
    },
    {
      "cell_type": "markdown",
      "source": [
        "ex 1"
      ],
      "metadata": {
        "id": "xuuOmgZPkp-H"
      }
    },
    {
      "cell_type": "code",
      "source": [
        "import numpy as np\n",
        "\n",
        "num = int(input(\"Введите количество строк и столбцов: \"))\n",
        "mat1 = []\n",
        "mat2 = []\n",
        "a = 0\n",
        "for i in range(num):\n",
        "  for f in range(num):\n",
        "    a += 1\n",
        "    mat2.append(a)\n",
        "  mat1.append(mat2)\n",
        "  mat2 = []\n",
        "print(mat1)\n",
        "\n",
        "if len(mat1) == 1:\n",
        "  print(\"Определитель матрицы равен\", mat1[0][0])\n",
        "if len(mat1) == 2:\n",
        "  print(\"Определитель матрицы равен\", mat1[0][0] * mat1[1][1] - mat1[0][1] * mat1[1][0])\n",
        "if len(mat1) >= 3:\n",
        "  n_array = np.array(mat1)\n",
        "  print(\"Определитель матрицы равен\", np.linalg.det(n_array))"
      ],
      "metadata": {
        "id": "IyvFELxckq4z"
      },
      "execution_count": null,
      "outputs": []
    },
    {
      "cell_type": "markdown",
      "source": [
        "ex 2"
      ],
      "metadata": {
        "id": "JBJWzHZEkrjO"
      }
    },
    {
      "cell_type": "code",
      "source": [
        "import numpy as np\n",
        "\n",
        "num = int(input(\"Введите количество строк и столбцов: \"))\n",
        "mat1 = []\n",
        "mat2 = []\n",
        "a = num**2\n",
        "for i in range(num):\n",
        "  for f in range(num):\n",
        "    mat2.append(a)\n",
        "    a -= 1\n",
        "  mat1.append(mat2)\n",
        "  mat2 = []\n",
        "print(mat1)\n",
        "\n",
        "if len(mat1) == 1:\n",
        "  print(\"Определитель матрицы равен\", mat1[0][0])\n",
        "if len(mat1) == 2:\n",
        "  print(\"Определитель матрицы равен\", mat1[0][0] * mat1[1][1] - mat1[0][1] * mat1[1][0])\n",
        "if len(mat1) >= 3:\n",
        "  n_array = np.array(mat1)\n",
        "  print(\"Определитель матрицы равен\", np.linalg.det(n_array))\n"
      ],
      "metadata": {
        "id": "2wwXffejktUN"
      },
      "execution_count": null,
      "outputs": []
    },
    {
      "cell_type": "markdown",
      "source": [
        "ex 3"
      ],
      "metadata": {
        "id": "LldcYu0Nkt3B"
      }
    },
    {
      "cell_type": "code",
      "source": [
        "table = [['ФИО','Балл по программированию','Балл по ОБЖ','Балл по алгебре'],['Петров', '78', '93', '61'],['Иванов', '56', '67', '73'],['Сидоров', '81', '75', '70']]\n",
        "\n",
        "subjects = table[0][1:]\n",
        "scores = table[0:][1:]\n",
        "sub_1_scores = table[0:][1]\n",
        "sub_2_scores = table[0:][2]\n",
        "sub_3_scores = table[0:][3]\n",
        "\n",
        "\n",
        "print(sub_1_scores)"
      ],
      "metadata": {
        "id": "rg_ICI_6ku0j"
      },
      "execution_count": null,
      "outputs": []
    },
    {
      "cell_type": "markdown",
      "source": [
        "25.12.24"
      ],
      "metadata": {
        "id": "ctg4vrnBluVf"
      }
    },
    {
      "cell_type": "markdown",
      "source": [
        "ex 1"
      ],
      "metadata": {
        "id": "eY_COWRblvn_"
      }
    },
    {
      "cell_type": "code",
      "source": [
        "list = []\n",
        "\n",
        "\n",
        "while True:\n",
        "  num = int(input(\"Введите: \"))\n",
        "  if num != 0:\n",
        "    list.append(num)\n",
        "  if num == 0:\n",
        "    break\n",
        "\n",
        "def summ():\n",
        "  a = 0\n",
        "  for arg in list:\n",
        "    a = arg + a\n",
        "  return a\n",
        "\n",
        "result = summ()\n",
        "print(result)"
      ],
      "metadata": {
        "id": "8UsYCH3ZlwSQ"
      },
      "execution_count": null,
      "outputs": []
    },
    {
      "cell_type": "markdown",
      "source": [
        "ex 2"
      ],
      "metadata": {
        "id": "lg4x2gASlw5I"
      }
    },
    {
      "cell_type": "code",
      "source": [
        "def data_collect():\n",
        "  data = []\n",
        "  while True:\n",
        "    entered = input('Введите 0-0 для завершения: ')\n",
        "    if entered == \"0-0\":\n",
        "      break\n",
        "    name, phone = entered.split('-')\n",
        "    data.append((name, int(phone)))\n",
        "    return data_collect()\n",
        "\n",
        "def num_sort(data):\n",
        "  return sorted(data)\n",
        "\n",
        "#def name_sort(data):\n",
        "# return sorted()\n",
        "\n",
        "data = data_collect()\n",
        "\n",
        "sorted_numbers = num_sort(data)\n",
        "#sorted_names = name_sort(data)\n",
        "\n",
        "print(sorted_numbers)\n",
        "#print(sorted_names)\n",
        "#print(data)"
      ],
      "metadata": {
        "id": "_LV4tVPRlxd9"
      },
      "execution_count": null,
      "outputs": []
    },
    {
      "cell_type": "markdown",
      "source": [
        "14.01.25"
      ],
      "metadata": {
        "id": "wmmPyIqBJHhF"
      }
    },
    {
      "cell_type": "markdown",
      "source": [
        "ex 1"
      ],
      "metadata": {
        "id": "HmUpaTkbJOxS"
      }
    },
    {
      "cell_type": "code",
      "source": [
        "import random\n",
        "\n",
        "with open('input.txt', 'r', encoding='utf-8') as infile:\n",
        "    lines = infile.readlines()\n",
        "\n",
        "with open('result.txt', 'w', encoding='utf-8') as outfile:\n",
        "    for line in lines:\n",
        "        random_number = random.randint(1000, 9999)\n",
        "        outfile.write(f\"{line.strip()} {random_number}\\n\")\n"
      ],
      "metadata": {
        "id": "geCOkKc3JRlQ"
      },
      "execution_count": null,
      "outputs": []
    }
  ]
}