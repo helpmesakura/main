{
  "nbformat": 4,
  "nbformat_minor": 0,
  "metadata": {
    "colab": {
      "provenance": [],
      "authorship_tag": "ABX9TyMtl6bNtTCnR2OyrYjUcQtJ",
      "include_colab_link": true
    },
    "kernelspec": {
      "name": "python3",
      "display_name": "Python 3"
    },
    "language_info": {
      "name": "python"
    }
  },
  "cells": [
    {
      "cell_type": "markdown",
      "metadata": {
        "id": "view-in-github",
        "colab_type": "text"
      },
      "source": [
        "<a href=\"https://colab.research.google.com/github/helpmesakura/main/blob/main/%D0%9A%D0%B0%D1%81%D0%B0%D0%BA%D0%B8%D0%BD_%D0%91%D0%98%D0%9A_24_%D0%98%D0%921.ipynb\" target=\"_parent\"><img src=\"https://colab.research.google.com/assets/colab-badge.svg\" alt=\"Open In Colab\"/></a>"
      ]
    },
    {
      "cell_type": "code",
      "execution_count": 8,
      "metadata": {
        "id": "xYXiaKarmvhK",
        "colab": {
          "base_uri": "https://localhost:8080/"
        },
        "outputId": "af431eee-8d12-404b-8f2d-2f4b7329437d"
      },
      "outputs": [
        {
          "output_type": "stream",
          "name": "stdout",
          "text": [
            "75.0\n"
          ]
        }
      ],
      "source": [
        "a = 10\n",
        "b = 15\n",
        "s = a * b / 2\n",
        "print(s)"
      ]
    },
    {
      "cell_type": "code",
      "source": [
        "a = int(input())\n",
        "copy = a\n",
        "a1 = a % 10\n",
        "a //= 10\n",
        "a2 = a % 10\n",
        "a //= 10\n",
        "a3 = a % 10\n",
        "print(copy, a3, a2, a1)"
      ],
      "metadata": {
        "colab": {
          "base_uri": "https://localhost:8080/"
        },
        "id": "_F0HFpZsHema",
        "outputId": "c89e809d-4a22-4eb1-a36c-ac844291cd30"
      },
      "execution_count": 21,
      "outputs": [
        {
          "output_type": "stream",
          "name": "stdout",
          "text": [
            "105\n",
            "105 1 0 5\n"
          ]
        }
      ]
    },
    {
      "cell_type": "code",
      "source": [
        "sec = int(input())\n",
        "hours = sec % 120\n",
        "min = sec // 60\n",
        "# while sec > 60 or min > 60:\n",
        "# sec -= 60\n",
        "# min -= 60\n",
        "# if sec > 60 or min > 60:\n",
        "# min += 1\n",
        "# hours += 1\n",
        "a = f'{hours}:{min}:{sec}'\n",
        "\n",
        "\n",
        "print('Сейчас:', a)"
      ],
      "metadata": {
        "colab": {
          "base_uri": "https://localhost:8080/"
        },
        "id": "AGrXHiM0Ks2e",
        "outputId": "c4d294ca-e012-473e-bb58-eabd23ea9e63"
      },
      "execution_count": 36,
      "outputs": [
        {
          "output_type": "stream",
          "name": "stdout",
          "text": [
            "12200\n",
            "Сейчас: 80:203:12200\n"
          ]
        }
      ]
    }
  ]
}