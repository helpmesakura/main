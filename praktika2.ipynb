{
  "nbformat": 4,
  "nbformat_minor": 0,
  "metadata": {
    "colab": {
      "provenance": [],
      "authorship_tag": "ABX9TyPIAquqhKKmGHD0901GAfG5",
      "include_colab_link": true
    },
    "kernelspec": {
      "name": "python3",
      "display_name": "Python 3"
    },
    "language_info": {
      "name": "python"
    }
  },
  "cells": [
    {
      "cell_type": "markdown",
      "metadata": {
        "id": "view-in-github",
        "colab_type": "text"
      },
      "source": [
        "<a href=\"https://colab.research.google.com/github/helpmesakura/main/blob/main/praktika2.ipynb\" target=\"_parent\"><img src=\"https://colab.research.google.com/assets/colab-badge.svg\" alt=\"Open In Colab\"/></a>"
      ]
    },
    {
      "cell_type": "code",
      "execution_count": 2,
      "metadata": {
        "id": "M6HXCJMJ80eA",
        "colab": {
          "base_uri": "https://localhost:8080/"
        },
        "outputId": "a74bde1b-b57d-43c8-fbe8-641df2bb77e8"
      },
      "outputs": [
        {
          "output_type": "stream",
          "name": "stdout",
          "text": [
            "and\n",
            "19\n",
            "185\n",
            "Привет, and! Тебе 19 лет, и твой рост 185\n"
          ]
        }
      ],
      "source": [
        "name = input('Введие имя')\n",
        "age = input('Введите свой возраст')\n",
        "height = input('Введите свой рост')\n",
        "\n",
        "print(f'Привет, {name}! Тебе {age} лет, и твой рост {height} см')"
      ]
    },
    {
      "cell_type": "code",
      "source": [
        "num = int(input('Введите уелое число '))\n",
        "print('четное' if num % 2 == 0 else 'нечетное')\n",
        "print('положительное' if num > 0 else 'отрицательное')\n",
        "print('число равно нулю' if num == 0 else 'не равно нулю')"
      ],
      "metadata": {
        "id": "ufUU9EcM-vM8",
        "outputId": "0b200f4f-57d2-4753-967b-f44a4fecb377",
        "colab": {
          "base_uri": "https://localhost:8080/"
        }
      },
      "execution_count": 4,
      "outputs": [
        {
          "output_type": "stream",
          "name": "stdout",
          "text": [
            "Введите уелое число185\n",
            "нечетное\n",
            "положительное\n",
            "не равно нулю\n"
          ]
        }
      ]
    },
    {
      "cell_type": "code",
      "source": [
        "n = []\n",
        "for i in range(5):\n",
        "  a = int(input('Введите число: '))\n",
        "  n.append(a)\n",
        "\n",
        "print(sum(n), max(n), min(n))"
      ],
      "metadata": {
        "id": "30mvFjCM_pxZ",
        "outputId": "d8f3754f-9bd6-4e48-bde2-d60f1f0f649c",
        "colab": {
          "base_uri": "https://localhost:8080/"
        }
      },
      "execution_count": 25,
      "outputs": [
        {
          "output_type": "stream",
          "name": "stdout",
          "text": [
            "Введите число: 1\n",
            "Введите число: 2\n",
            "Введите число: 3\n",
            "Введите число: 4\n",
            "Введите число: 5\n",
            "15 5 1\n"
          ]
        }
      ]
    },
    {
      "cell_type": "code",
      "source": [
        "def sum_of_evens(numbers):\n",
        "    return sum(num for num in numbers if num % 2 == 0)\n",
        "user_input = input(\"Введите числа через пробел: \")\n",
        "numbers = list(map(int, user_input.split()))\n",
        "total_sum = sum_of_evens(numbers)\n",
        "print(total_sum)"
      ],
      "metadata": {
        "id": "2Ye6Nv1cGQIs",
        "outputId": "c7da23c0-e49d-4aab-cbb1-d55b70ff244b",
        "colab": {
          "base_uri": "https://localhost:8080/"
        }
      },
      "execution_count": 38,
      "outputs": [
        {
          "output_type": "stream",
          "name": "stdout",
          "text": [
            "Введите числа через пробел: 1 2 3 4 5 6 7 8 9 10\n",
            "30\n"
          ]
        }
      ]
    },
    {
      "cell_type": "code",
      "source": [
        "def generate_squares():\n",
        "    n = int(input(\"Введите положительное целое число: \"))\n",
        "    squares = [i ** 2 for i in range(1, n + 1)]\n",
        "    print(squares)\n",
        "\n",
        "generate_squares()"
      ],
      "metadata": {
        "id": "WhT4o6-iIn0i",
        "outputId": "4c9cac6c-06be-47f1-fb45-935ddc241119",
        "colab": {
          "base_uri": "https://localhost:8080/"
        }
      },
      "execution_count": 43,
      "outputs": [
        {
          "output_type": "stream",
          "name": "stdout",
          "text": [
            "Введите положительное целое число: 5\n",
            "[1, 4, 9, 16, 25]\n"
          ]
        }
      ]
    },
    {
      "cell_type": "code",
      "source": [
        "def filter_noise():\n",
        "    signal_str = input(\"Введите сигнал через пробел: \")\n",
        "    signal = list(map(int, signal_str.split()))\n",
        "    threshold = float(input(\"Введите порог: \"))\n",
        "    filtered_signal = [x for x in signal if abs(x) >= threshold]\n",
        "    print(\"Отфильтрованный сигнал:\", filtered_signal)\n",
        "filter_noise()"
      ],
      "metadata": {
        "id": "4Cyu1L06K9xb"
      },
      "execution_count": null,
      "outputs": []
    }
  ]
}