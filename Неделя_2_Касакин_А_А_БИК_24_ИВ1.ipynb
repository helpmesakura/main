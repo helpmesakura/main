{
  "nbformat": 4,
  "nbformat_minor": 0,
  "metadata": {
    "colab": {
      "provenance": [],
      "authorship_tag": "ABX9TyM8yO5rOQOBG4fNtcF1zqnQ",
      "include_colab_link": true
    },
    "kernelspec": {
      "name": "python3",
      "display_name": "Python 3"
    },
    "language_info": {
      "name": "python"
    }
  },
  "cells": [
    {
      "cell_type": "markdown",
      "metadata": {
        "id": "view-in-github",
        "colab_type": "text"
      },
      "source": [
        "<a href=\"https://colab.research.google.com/github/helpmesakura/main/blob/main/%D0%9D%D0%B5%D0%B4%D0%B5%D0%BB%D1%8F_2_%D0%9A%D0%B0%D1%81%D0%B0%D0%BA%D0%B8%D0%BD_%D0%90_%D0%90_%D0%91%D0%98%D0%9A_24_%D0%98%D0%921.ipynb\" target=\"_parent\"><img src=\"https://colab.research.google.com/assets/colab-badge.svg\" alt=\"Open In Colab\"/></a>"
      ]
    },
    {
      "cell_type": "markdown",
      "source": [
        "ex 1"
      ],
      "metadata": {
        "id": "2VUOPCKbakKh"
      }
    },
    {
      "cell_type": "code",
      "execution_count": 4,
      "metadata": {
        "colab": {
          "base_uri": "https://localhost:8080/"
        },
        "id": "zj6wdboaMonl",
        "outputId": "0f544029-ae87-4cec-a88c-07b792fc97b7"
      },
      "outputs": [
        {
          "output_type": "stream",
          "name": "stdout",
          "text": [
            "3\n",
            "5\n",
            "5.830951894845301\n"
          ]
        }
      ],
      "source": [
        "a = int(input())\n",
        "b = int(input())\n",
        "c = (a ** 2) + (b ** 2)\n",
        "print(c ** 0.5)"
      ]
    },
    {
      "cell_type": "markdown",
      "source": [
        "ex 2"
      ],
      "metadata": {
        "id": "HWYWcViva7ki"
      }
    },
    {
      "cell_type": "code",
      "source": [
        "a = int(input())\n",
        "nn = f'The next number for the number {a} is {a + 1}.'\n",
        "pn = f'The previous number for the number {a} is {a - 1}.'\n",
        "print(nn)\n",
        "print(pn)"
      ],
      "metadata": {
        "colab": {
          "base_uri": "https://localhost:8080/"
        },
        "id": "vpOEmnlea9Rc",
        "outputId": "ba6a122d-add8-4213-e7cb-bf900709696d"
      },
      "execution_count": 14,
      "outputs": [
        {
          "output_type": "stream",
          "name": "stdout",
          "text": [
            "456\n",
            "The next number for the number 456 is 457.\n",
            "The previous number for the number 456 is 455.\n"
          ]
        }
      ]
    },
    {
      "cell_type": "markdown",
      "source": [
        "ex 3"
      ],
      "metadata": {
        "id": "CDeNjtHmcMJD"
      }
    },
    {
      "cell_type": "code",
      "source": [
        "a = input()\n",
        "if a == a[::-1] and len(a) == 4:\n",
        "    print(1)\n",
        "else:\n",
        "    print(2)\n"
      ],
      "metadata": {
        "colab": {
          "base_uri": "https://localhost:8080/"
        },
        "id": "naIqV-M7cNGd",
        "outputId": "62f8db55-73db-46ab-bf36-913824f63cbd"
      },
      "execution_count": 11,
      "outputs": [
        {
          "output_type": "stream",
          "name": "stdout",
          "text": [
            "2112\n",
            "1\n"
          ]
        }
      ]
    },
    {
      "cell_type": "markdown",
      "source": [
        "ex 4"
      ],
      "metadata": {
        "id": "48X1bReGdMMe"
      }
    },
    {
      "cell_type": "code",
      "source": [
        "import math\n",
        "\n",
        "h = int(input())\n",
        "a = int(input())\n",
        "b = int(input())\n",
        "d = math.ceil((h - a) / (a - b))\n",
        "days = d + 1\n",
        "print(days)\n"
      ],
      "metadata": {
        "colab": {
          "base_uri": "https://localhost:8080/"
        },
        "id": "vj-nkUbUdM4M",
        "outputId": "98dbbd87-adc7-47a6-9cf1-f9223b23a898"
      },
      "execution_count": 15,
      "outputs": [
        {
          "output_type": "stream",
          "name": "stdout",
          "text": [
            "25\n",
            "3\n",
            "1\n",
            "12\n"
          ]
        }
      ]
    },
    {
      "cell_type": "markdown",
      "source": [
        "ex 5"
      ],
      "metadata": {
        "id": "7rgNXZ8VfGFl"
      }
    },
    {
      "cell_type": "code",
      "source": [
        "num = int(input())\n",
        "sec = num % 60\n",
        "minn = (num % 3600) // 60\n",
        "hours = (num // 3600) % 24\n",
        "print(f'{hours}:{minn}:{sec}')\n"
      ],
      "metadata": {
        "colab": {
          "base_uri": "https://localhost:8080/"
        },
        "id": "YyvqhRqCfG6k",
        "outputId": "d9646873-8bb5-4298-f770-808fd440a896"
      },
      "execution_count": 16,
      "outputs": [
        {
          "output_type": "stream",
          "name": "stdout",
          "text": [
            "12345\n",
            "3:25:45\n"
          ]
        }
      ]
    },
    {
      "cell_type": "markdown",
      "source": [
        "ex 6"
      ],
      "metadata": {
        "id": "d27YvaVSkJZf"
      }
    },
    {
      "cell_type": "code",
      "source": [
        "h1 = int(input())\n",
        "m1 = int(input())\n",
        "s1 = int(input())\n",
        "\n",
        "h2 = int(input())\n",
        "m2 = int(input())\n",
        "s2 = int(input())\n",
        "\n",
        "r = ((h1 * 3600 + m1 * 60 + s1) - (h2 * 3600 + m2 * 60 + s2))\n",
        "print(r)"
      ],
      "metadata": {
        "colab": {
          "base_uri": "https://localhost:8080/"
        },
        "id": "QskRFRQckKd7",
        "outputId": "ab1c7756-fb41-472c-d2a9-d5273baf98e6"
      },
      "execution_count": 17,
      "outputs": [
        {
          "output_type": "stream",
          "name": "stdout",
          "text": [
            "12\n",
            "3\n",
            "34\n",
            "6\n",
            "45\n",
            "13\n",
            "19101\n"
          ]
        }
      ]
    },
    {
      "cell_type": "markdown",
      "source": [
        "ex 7"
      ],
      "metadata": {
        "id": "rCsJ9FTml3Do"
      }
    },
    {
      "cell_type": "code",
      "source": [
        "a = int(input())\n",
        "b = int(input())\n",
        "\n",
        "c = a\n",
        "a = b\n",
        "b = c\n",
        "print(a, b)"
      ],
      "metadata": {
        "colab": {
          "base_uri": "https://localhost:8080/"
        },
        "id": "Sqy1bfbel39m",
        "outputId": "c94df474-3552-47e6-84db-3b35d9ea7541"
      },
      "execution_count": 18,
      "outputs": [
        {
          "output_type": "stream",
          "name": "stdout",
          "text": [
            "1\n",
            "9\n",
            "9 1\n"
          ]
        }
      ]
    },
    {
      "cell_type": "markdown",
      "source": [
        "ex 8"
      ],
      "metadata": {
        "id": "HWlbq1XjmzdU"
      }
    },
    {
      "cell_type": "code",
      "source": [
        "n, k = map(int, input().split())\n",
        "print(k % n)"
      ],
      "metadata": {
        "colab": {
          "base_uri": "https://localhost:8080/"
        },
        "id": "g7rsJqVXm0gg",
        "outputId": "358a315c-c454-4cf3-8903-5f7dba67cd8d"
      },
      "execution_count": 19,
      "outputs": [
        {
          "output_type": "stream",
          "name": "stdout",
          "text": [
            "5 6\n",
            "1\n"
          ]
        }
      ]
    },
    {
      "cell_type": "markdown",
      "source": [
        "ex 9"
      ],
      "metadata": {
        "id": "iwz5k11Qw7iQ"
      }
    },
    {
      "cell_type": "code",
      "source": [
        "a = int(input())\n",
        "a1 = a % 10\n",
        "a //= 10\n",
        "a2 = a % 10\n",
        "a //= 10\n",
        "a3 = a % 10\n",
        "print(a1 + a2 + a3)"
      ],
      "metadata": {
        "colab": {
          "base_uri": "https://localhost:8080/"
        },
        "id": "IpdJ1fRMw8n0",
        "outputId": "d34420e1-caa3-4a8d-8855-0dcca1cc9270"
      },
      "execution_count": 21,
      "outputs": [
        {
          "output_type": "stream",
          "name": "stdout",
          "text": [
            "445\n",
            "13\n"
          ]
        }
      ]
    }
  ]
}