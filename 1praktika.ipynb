{
  "nbformat": 4,
  "nbformat_minor": 0,
  "metadata": {
    "colab": {
      "provenance": [],
      "authorship_tag": "ABX9TyMbS6KVltgpWAot3QLIagYf",
      "include_colab_link": true
    },
    "kernelspec": {
      "name": "python3",
      "display_name": "Python 3"
    },
    "language_info": {
      "name": "python"
    }
  },
  "cells": [
    {
      "cell_type": "markdown",
      "metadata": {
        "id": "view-in-github",
        "colab_type": "text"
      },
      "source": [
        "<a href=\"https://colab.research.google.com/github/helpmesakura/main/blob/main/1praktika.ipynb\" target=\"_parent\"><img src=\"https://colab.research.google.com/assets/colab-badge.svg\" alt=\"Open In Colab\"/></a>"
      ]
    },
    {
      "cell_type": "code",
      "execution_count": null,
      "metadata": {
        "id": "3XS7zbjw85xN"
      },
      "outputs": [],
      "source": [
        "a = 1 #int\n",
        "b = '123' #str\n",
        "c = 1.5 #float\n",
        "d = False #bool"
      ]
    },
    {
      "cell_type": "code",
      "source": [
        "name = 'Andrey'\n",
        "s = 19\n",
        "print(name, s)"
      ],
      "metadata": {
        "colab": {
          "base_uri": "https://localhost:8080/"
        },
        "id": "ee6JFLZeBFMI",
        "outputId": "3864a3e0-be48-4bce-95a8-02cb95fdced4"
      },
      "execution_count": 1,
      "outputs": [
        {
          "output_type": "stream",
          "name": "stdout",
          "text": [
            "Andrey 19\n"
          ]
        }
      ]
    },
    {
      "cell_type": "code",
      "source": [
        "a1 = 342\n",
        "a2 = 56.2\n",
        "a3 = '43'\n",
        "print(a1 + a2 + int(a3))"
      ],
      "metadata": {
        "colab": {
          "base_uri": "https://localhost:8080/"
        },
        "id": "eJPy9eqgBY6k",
        "outputId": "71368f6f-930d-4af9-fd34-5cfdf8df6457"
      },
      "execution_count": 2,
      "outputs": [
        {
          "output_type": "stream",
          "name": "stdout",
          "text": [
            "441.2\n"
          ]
        }
      ]
    },
    {
      "cell_type": "code",
      "source": [
        "a = 3\n",
        "b = 8\n",
        "print((a + b * 4) * (a  - 3 * b) + a ** 2)"
      ],
      "metadata": {
        "colab": {
          "base_uri": "https://localhost:8080/"
        },
        "id": "AHoXsZ9mBiZu",
        "outputId": "19932e28-bb15-4996-8b3c-df9c205c7fc2"
      },
      "execution_count": 3,
      "outputs": [
        {
          "output_type": "stream",
          "name": "stdout",
          "text": [
            "-726\n"
          ]
        }
      ]
    },
    {
      "cell_type": "code",
      "source": [
        "st1 = int(input('Длина первой стороны: '))\n",
        "st2 = int(input('Длина второй стороны: '))\n",
        "st3 = int(input('Длина третьей стороны: '))\n",
        "st4 = int(input('Длина четвертой стороны: '))\n",
        "perimetr = st1 + st2 + st3 + st4\n",
        "ploshad = st1 * st2\n",
        "print(perimetr, ploshad)"
      ],
      "metadata": {
        "colab": {
          "base_uri": "https://localhost:8080/"
        },
        "id": "prmhA-CIBwPU",
        "outputId": "4177b20e-8b4e-4181-f9df-43d1175f6db6"
      },
      "execution_count": 8,
      "outputs": [
        {
          "name": "stdout",
          "output_type": "stream",
          "text": [
            "Длина первой стороны: 12\n",
            "Длина второй стороны: 23\n",
            "Длина третьей стороны: 34\n",
            "Длина четвертой стороны: 45\n"
          ]
        }
      ]
    },
    {
      "cell_type": "code",
      "source": [
        "print('*   *   *')\n",
        "print(' * * * *')\n",
        "print('  *   *')"
      ],
      "metadata": {
        "colab": {
          "base_uri": "https://localhost:8080/"
        },
        "id": "M1BwILf5CcS4",
        "outputId": "457b9fae-54a9-4b73-9f44-f19be30db186"
      },
      "execution_count": 6,
      "outputs": [
        {
          "output_type": "stream",
          "name": "stdout",
          "text": [
            "*   *   *\n",
            " * * * *\n",
            "  *   *\n"
          ]
        }
      ]
    },
    {
      "cell_type": "code",
      "source": [
        "a = 12\n",
        "b = 24\n",
        "print(a + b, a - b, a * b, a % b, a / b, a // b)\n",
        "print(1 if a > b else 2)\n",
        "print(3 if a == b else 4)\n",
        "print(5 if a < b else 6)"
      ],
      "metadata": {
        "colab": {
          "base_uri": "https://localhost:8080/"
        },
        "id": "zJX1C2W5C9Lw",
        "outputId": "6308f27a-b756-474d-d057-077b52f4c811"
      },
      "execution_count": 5,
      "outputs": [
        {
          "output_type": "stream",
          "name": "stdout",
          "text": [
            "36 -12 288 12 0.5 0\n",
            "2\n",
            "4\n",
            "5\n"
          ]
        }
      ]
    },
    {
      "cell_type": "code",
      "source": [
        "name = 'Andrey'\n",
        "a = 19\n",
        "print(f'Меня зовут {name}, мне {a} лет')"
      ],
      "metadata": {
        "colab": {
          "base_uri": "https://localhost:8080/"
        },
        "id": "NkNyw3KJE8Zq",
        "outputId": "66ad2c0c-5707-42f5-ed51-db500b250e86"
      },
      "execution_count": 10,
      "outputs": [
        {
          "output_type": "stream",
          "name": "stdout",
          "text": [
            "Меня зовут Andrey, мне 19 лет\n"
          ]
        }
      ]
    },
    {
      "cell_type": "code",
      "source": [
        "st = 'съешь еще этих мягких французских булок, да выпей чаю.'\n",
        "a = st.split()\n",
        "a1 = a[0]\n",
        "a2 = a[1]\n",
        "a3 = a[2] + ' ' +  a[3]\n",
        "a4 = a[4] + ' ' + a[5] + ' ' + a[6]\n",
        "a5 = a[7] + ' ' + a[8]\n",
        "print(a1, a2, a3, a4, a5)"
      ],
      "metadata": {
        "colab": {
          "base_uri": "https://localhost:8080/"
        },
        "id": "5-rT-X3QFotN",
        "outputId": "41def7dc-dae8-4d5e-f6bb-0cba0aef8d9a"
      },
      "execution_count": 15,
      "outputs": [
        {
          "output_type": "stream",
          "name": "stdout",
          "text": [
            "съешь еще этих мягких французских булок, да выпей чаю.\n"
          ]
        }
      ]
    },
    {
      "cell_type": "code",
      "source": [
        "da = 'Да!'\n",
        "net = 'Нет!'\n",
        "print((da + net) * 4)"
      ],
      "metadata": {
        "colab": {
          "base_uri": "https://localhost:8080/"
        },
        "id": "Ee31YvyhG9st",
        "outputId": "9ffec271-d27f-47b4-aaa9-dcb364c35c90"
      },
      "execution_count": 16,
      "outputs": [
        {
          "output_type": "stream",
          "name": "stdout",
          "text": [
            "Да!Нет!Да!Нет!Да!Нет!Да!Нет!\n"
          ]
        }
      ]
    },
    {
      "cell_type": "code",
      "source": [
        "asd = input('Введите 3 числаразделенных запятой: ')\n",
        "a,b,c = asd.split(',')\n",
        "\n",
        "a1 = int(a)\n",
        "b1 = int(b)\n",
        "c1 = int(c)\n",
        "print((a1 + c1) // b1)\n"
      ],
      "metadata": {
        "colab": {
          "base_uri": "https://localhost:8080/"
        },
        "id": "JH43mxYNHNtF",
        "outputId": "87502561-ec6c-43a3-f59d-947b18d8e70d"
      },
      "execution_count": 25,
      "outputs": [
        {
          "output_type": "stream",
          "name": "stdout",
          "text": [
            "Введите 3 числаразделенных запятой: 1,5,9\n",
            "2\n"
          ]
        }
      ]
    },
    {
      "cell_type": "code",
      "source": [
        "a = input()\n",
        "print(a[0], a[1], a[2], a[3])\n",
        "print(a[-1], a[-2])\n",
        "print(a[3], a[4], a[5],a[6],a[7])\n",
        "print(a[::-1])"
      ],
      "metadata": {
        "colab": {
          "base_uri": "https://localhost:8080/"
        },
        "id": "aZJfCKQOIYcq",
        "outputId": "f1e1c988-391b-403c-cfd6-da00a896b9a4"
      },
      "execution_count": 26,
      "outputs": [
        {
          "output_type": "stream",
          "name": "stdout",
          "text": [
            "классификация\n",
            "к л а с\n",
            "я и\n",
            "с с и ф и\n",
            "яицакифиссалк\n"
          ]
        }
      ]
    }
  ]
}